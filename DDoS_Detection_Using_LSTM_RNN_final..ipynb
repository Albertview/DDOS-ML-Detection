{
 "cells": [
  {
   "cell_type": "code",
   "execution_count": 13,
   "metadata": {},
   "outputs": [
    {
     "name": "stderr",
     "output_type": "stream",
     "text": [
      "Using TensorFlow backend.\n"
     ]
    }
   ],
   "source": [
    "#https://github.com/rxYoungho\n",
    "import pandas as pd\n",
    "import numpy as np\n",
    "from sklearn.preprocessing import OneHotEncoder, OrdinalEncoder\n",
    "from sklearn.model_selection import train_test_split\n",
    "import tensorflow as tf\n",
    "from tensorflow.keras.models import Sequential\n",
    "from tensorflow.keras.layers import Dense, LSTM #CuDNNLSTM\n",
    "from sklearn.preprocessing import StandardScaler\n",
    "import matplotlib.pyplot as plt\n",
    "import keras\n",
    "\n"
   ]
  },
  {
   "cell_type": "code",
   "execution_count": 4,
   "metadata": {
    "scrolled": true
   },
   "outputs": [],
   "source": [
    "num_feat = ['src_bytes','dst_bytes','wrong_fragment','urgent','hot','num_failed_logins','num_compromised','root_shell','su_attempted','num_root','num_file_creations','num_shells','num_access_files','num_outbound_cmds','count','srv_count','serror_rate','srv_serror_rate','rerror_rate','srv_rerror_rate','same_srv_rate','diff_srv_rate','srv_diff_host_rate','dst_host_count','dst_host_srv_count','dst_host_same_srv_rate','dst_host_diff_srv_rate','dst_host_same_src_port_rate','dst_host_srv_diff_host_rate','dst_host_serror_rate','dst_host_srv_serror_rate','dst_host_rerror_rate','dst_host_srv_rerror_rate']\n"
   ]
  },
  {
   "cell_type": "code",
   "execution_count": 16,
   "metadata": {},
   "outputs": [
    {
     "name": "stdout",
     "output_type": "stream",
     "text": [
      "<class 'pandas.core.frame.DataFrame'>\n",
      "RangeIndex: 125973 entries, 0 to 125972\n",
      "Data columns (total 42 columns):\n",
      " #   Column                       Non-Null Count   Dtype  \n",
      "---  ------                       --------------   -----  \n",
      " 0   duration                     125973 non-null  int64  \n",
      " 1   protocol_type                125973 non-null  object \n",
      " 2   service                      125973 non-null  object \n",
      " 3   flag                         125973 non-null  object \n",
      " 4   src_bytes                    125973 non-null  int64  \n",
      " 5   dst_bytes                    125973 non-null  int64  \n",
      " 6   land                         125973 non-null  int64  \n",
      " 7   wrong_fragment               125973 non-null  int64  \n",
      " 8   urgent                       125973 non-null  int64  \n",
      " 9   hot                          125973 non-null  int64  \n",
      " 10  num_failed_logins            125973 non-null  int64  \n",
      " 11  logged_in                    125973 non-null  int64  \n",
      " 12  num_compromised              125973 non-null  int64  \n",
      " 13  root_shell                   125973 non-null  int64  \n",
      " 14  su_attempted                 125973 non-null  int64  \n",
      " 15  num_root                     125973 non-null  int64  \n",
      " 16  num_file_creations           125973 non-null  int64  \n",
      " 17  num_shells                   125973 non-null  int64  \n",
      " 18  num_access_files             125973 non-null  int64  \n",
      " 19  num_outbound_cmds            125973 non-null  int64  \n",
      " 20  is_host_login                125973 non-null  int64  \n",
      " 21  is_guest_login               125973 non-null  int64  \n",
      " 22  count                        125973 non-null  int64  \n",
      " 23  srv_count                    125973 non-null  int64  \n",
      " 24  serror_rate                  125973 non-null  float64\n",
      " 25  srv_serror_rate              125973 non-null  float64\n",
      " 26  rerror_rate                  125973 non-null  float64\n",
      " 27  srv_rerror_rate              125973 non-null  float64\n",
      " 28  same_srv_rate                125973 non-null  float64\n",
      " 29  diff_srv_rate                125973 non-null  float64\n",
      " 30  srv_diff_host_rate           125973 non-null  float64\n",
      " 31  dst_host_count               125973 non-null  int64  \n",
      " 32  dst_host_srv_count           125973 non-null  int64  \n",
      " 33  dst_host_same_srv_rate       125973 non-null  float64\n",
      " 34  dst_host_diff_srv_rate       125973 non-null  float64\n",
      " 35  dst_host_same_src_port_rate  125973 non-null  float64\n",
      " 36  dst_host_srv_diff_host_rate  125973 non-null  float64\n",
      " 37  dst_host_serror_rate         125973 non-null  float64\n",
      " 38  dst_host_srv_serror_rate     125973 non-null  float64\n",
      " 39  dst_host_rerror_rate         125973 non-null  float64\n",
      " 40  dst_host_srv_rerror_rate     125973 non-null  float64\n",
      " 41  class                        125973 non-null  int64  \n",
      "dtypes: float64(15), int64(24), object(3)\n",
      "memory usage: 40.4+ MB\n"
     ]
    }
   ],
   "source": [
    "df = pd.read_csv('./KDDTrain.csv')\n",
    "df.info()\n",
    "df_val = pd.read_csv('./KDDTest.csv')"
   ]
  },
  {
   "cell_type": "code",
   "execution_count": 6,
   "metadata": {},
   "outputs": [],
   "source": [
    "# X_train, X_test, y_train, y_test = train_test_split(X, y, test_size = 0.2, random_state = 1, stratify = y)\n"
   ]
  },
  {
   "cell_type": "code",
   "execution_count": 5,
   "metadata": {},
   "outputs": [],
   "source": [
    "# feature_df = df\n",
    "# X = np.asarray(feature_df)\n",
    "# y = np.asarray(df['class'])\n"
   ]
  },
  {
   "cell_type": "code",
   "execution_count": null,
   "metadata": {
    "scrolled": true
   },
   "outputs": [],
   "source": [
    "#Change features with object or string value into numeric numbers\n",
    "ord_feat = ['protocol_type', 'service', 'flag']\n",
    "#Nom_feat = column value with 0 or 1\n",
    "nom_feat = ['land', 'logged_in', 'is_host_login', 'is_guest_login']\n",
    "num_feat = ['src_bytes','dst_bytes','wrong_fragment','urgent','hot','num_failed_logins','num_compromised','root_shell','su_attempted','num_root','num_file_creations','num_shells','num_access_files','num_outbound_cmds','count','srv_count','serror_rate','srv_serror_rate','rerror_rate','srv_rerror_rate','same_srv_rate','diff_srv_rate','srv_diff_host_rate','dst_host_count','dst_host_srv_count','dst_host_same_srv_rate','dst_host_diff_srv_rate','dst_host_same_src_port_rate','dst_host_srv_diff_host_rate','dst_host_serror_rate','dst_host_srv_serror_rate','dst_host_rerror_rate','dst_host_srv_rerror_rate']\n",
    "\n",
    "X_train, y_train = df.drop(columns=['class'], axis=1, inplace=False), df['class'].values\n",
    "\n",
    "\n",
    "ohe = OneHotEncoder(sparse=False)\n",
    "oe = OrdinalEncoder()\n",
    "\n",
    "ohe.fit(X_train[nom_feat].values)\n",
    "oe.fit(X_train[ord_feat].values)\n",
    "\n",
    "\n",
    "scalar = StandardScaler()\n",
    "scalar.fit(X_train[num_feat].values)\n",
    "X_train_nom = ohe.transform(X_train[nom_feat].values)\n",
    "X_train_ord = oe.transform(X_train[ord_feat].values)\n",
    "X_train_num = scalar.transform(X_train[num_feat].values)\n",
    "\n",
    "X_train = np.concatenate([X_train_ord, X_train_num, X_train_nom], axis=1)\n",
    "#SVM Approach-------------------------------------------------------------------\n",
    "from sklearn import svm\n",
    "\n",
    "classifier = svm.SVC(kernel = \"linear\")\n",
    "classifier.fit(X_train, y_train)\n",
    "y_predict = classifier.predict(X_test)\n",
    "\n",
    "from sklearn import metrics\n",
    "print(\"SVM ACCURACY : \",metrics.accuracy_score(y_test, y_predict))\n",
    "#SVM Approach Done--------------------------------------------------------------\n",
    "#reshape Train dataset into 3d array\n",
    "X_train = X_train.reshape((X_train.shape[0],1,X_train.shape[1]))\n",
    "y_train = y_train.reshape((y_train.shape[0],1,1))\n",
    "\n",
    "#Scale the num, ord, nom datasets\n",
    "X_test, y_test = df_val.drop(columns=['class'], axis = 1, inplace=False), df_val['class'].values\n",
    "\n",
    "ohe.fit(X_test[nom_feat].values)\n",
    "oe.fit(X_test[ord_feat].values)\n",
    "#reshape Test dataset into 3d array\n",
    "\n",
    "scalar.fit(X_test[num_feat].values)\n",
    "X_test_nom = ohe.transform(X_test[nom_feat].values)\n",
    "X_test_ord = oe.transform(X_test[ord_feat].values)\n",
    "X_test_num = scalar.transform(X_test[num_feat].values)\n",
    "X_test = np.concatenate([X_test_ord, X_test_num, X_test_nom], axis=1)\n",
    "X_test.shape\n",
    "X_test = X_test.reshape((X_test.shape[0],1,X_test.shape[1]))\n",
    "y_test = y_test.reshape((y_test.shape[0],1,1))\n"
   ]
  },
  {
   "cell_type": "code",
   "execution_count": 23,
   "metadata": {},
   "outputs": [
    {
     "name": "stdout",
     "output_type": "stream",
     "text": [
      "Train on 125973 samples, validate on 52977 samples\n",
      "Epoch 1/30\n",
      "125973/125973 [==============================] - 19s 147us/sample - loss: 0.0531 - acc: 0.9619 - val_loss: 0.0517 - val_acc: 0.9701\n",
      "Epoch 2/30\n",
      "125973/125973 [==============================] - 17s 132us/sample - loss: 0.0379 - acc: 0.9737 - val_loss: 0.0347 - val_acc: 0.9808\n",
      "Epoch 3/30\n",
      "125973/125973 [==============================] - 17s 132us/sample - loss: 0.0304 - acc: 0.9856 - val_loss: 0.0278 - val_acc: 0.9867\n",
      "Epoch 4/30\n",
      "125973/125973 [==============================] - 17s 133us/sample - loss: 0.0266 - acc: 0.9883 - val_loss: 0.0270 - val_acc: 0.9880\n",
      "Epoch 5/30\n",
      "125973/125973 [==============================] - 17s 132us/sample - loss: 0.0238 - acc: 0.9897 - val_loss: 0.0248 - val_acc: 0.9896\n",
      "Epoch 6/30\n",
      "125973/125973 [==============================] - 17s 134us/sample - loss: 0.0223 - acc: 0.9897 - val_loss: 0.0228 - val_acc: 0.9907\n",
      "Epoch 7/30\n",
      "125973/125973 [==============================] - 18s 142us/sample - loss: 0.0208 - acc: 0.9901 - val_loss: 0.0211 - val_acc: 0.9908\n",
      "Epoch 8/30\n",
      "125973/125973 [==============================] - 17s 139us/sample - loss: 0.0198 - acc: 0.9905 - val_loss: 0.0176 - val_acc: 0.9912\n",
      "Epoch 9/30\n",
      "125973/125973 [==============================] - 17s 135us/sample - loss: 0.0186 - acc: 0.9909 - val_loss: 0.0182 - val_acc: 0.9915\n",
      "Epoch 10/30\n",
      "125973/125973 [==============================] - 17s 134us/sample - loss: 0.0180 - acc: 0.9913 - val_loss: 0.0171 - val_acc: 0.9919\n",
      "Epoch 11/30\n",
      "125973/125973 [==============================] - 17s 133us/sample - loss: 0.0173 - acc: 0.9914 - val_loss: 0.0158 - val_acc: 0.9921\n",
      "Epoch 12/30\n",
      "125973/125973 [==============================] - 17s 134us/sample - loss: 0.0166 - acc: 0.9919 - val_loss: 0.0162 - val_acc: 0.9922\n",
      "Epoch 13/30\n",
      "125973/125973 [==============================] - 17s 134us/sample - loss: 0.0160 - acc: 0.9921 - val_loss: 0.0155 - val_acc: 0.9925\n",
      "Epoch 14/30\n",
      "125973/125973 [==============================] - 17s 135us/sample - loss: 0.0157 - acc: 0.9923 - val_loss: 0.0176 - val_acc: 0.9926\n",
      "Epoch 15/30\n",
      "125973/125973 [==============================] - 17s 134us/sample - loss: 0.0151 - acc: 0.9924 - val_loss: 0.0152 - val_acc: 0.9931\n",
      "Epoch 16/30\n",
      "125973/125973 [==============================] - 17s 134us/sample - loss: 0.0150 - acc: 0.9925 - val_loss: 0.0141 - val_acc: 0.9928\n",
      "Epoch 17/30\n",
      "125973/125973 [==============================] - 17s 136us/sample - loss: 0.0147 - acc: 0.9925 - val_loss: 0.0151 - val_acc: 0.9929\n",
      "Epoch 18/30\n",
      "125973/125973 [==============================] - 17s 134us/sample - loss: 0.0144 - acc: 0.9927 - val_loss: 0.0143 - val_acc: 0.9927\n",
      "Epoch 19/30\n",
      "125973/125973 [==============================] - 17s 134us/sample - loss: 0.0141 - acc: 0.9927 - val_loss: 0.0144 - val_acc: 0.9928\n",
      "Epoch 20/30\n",
      "125973/125973 [==============================] - 17s 135us/sample - loss: 0.0140 - acc: 0.9929 - val_loss: 0.0139 - val_acc: 0.9930\n",
      "Epoch 21/30\n",
      "125973/125973 [==============================] - 17s 133us/sample - loss: 0.0137 - acc: 0.9930 - val_loss: 0.0141 - val_acc: 0.9932\n",
      "Epoch 22/30\n",
      "125973/125973 [==============================] - 17s 133us/sample - loss: 0.0135 - acc: 0.9929 - val_loss: 0.0131 - val_acc: 0.9933\n",
      "Epoch 23/30\n",
      "125973/125973 [==============================] - 17s 134us/sample - loss: 0.0133 - acc: 0.9930 - val_loss: 0.0123 - val_acc: 0.9933\n",
      "Epoch 24/30\n",
      "125973/125973 [==============================] - 17s 134us/sample - loss: 0.0132 - acc: 0.9931 - val_loss: 0.0148 - val_acc: 0.9934\n",
      "Epoch 25/30\n",
      "125973/125973 [==============================] - 18s 143us/sample - loss: 0.0131 - acc: 0.9932 - val_loss: 0.0136 - val_acc: 0.9933\n",
      "Epoch 26/30\n",
      "125973/125973 [==============================] - 17s 137us/sample - loss: 0.0129 - acc: 0.9933 - val_loss: 0.0144 - val_acc: 0.9934\n",
      "Epoch 27/30\n",
      "125973/125973 [==============================] - 17s 137us/sample - loss: 0.0127 - acc: 0.9935 - val_loss: 0.0129 - val_acc: 0.9938\n",
      "Epoch 28/30\n",
      "125973/125973 [==============================] - 17s 135us/sample - loss: 0.0127 - acc: 0.9935 - val_loss: 0.0131 - val_acc: 0.9937\n",
      "Epoch 29/30\n",
      "125973/125973 [==============================] - 17s 136us/sample - loss: 0.0125 - acc: 0.9936 - val_loss: 0.0141 - val_acc: 0.9940\n",
      "Epoch 30/30\n",
      "125973/125973 [==============================] - 17s 136us/sample - loss: 0.0124 - acc: 0.9935 - val_loss: 0.0141 - val_acc: 0.9938\n"
     ]
    }
   ],
   "source": [
    "model = Sequential()\n",
    "#50 time steps, and 2 features\n",
    "#LSTM INOUT (Batch size, Time steps, units)\n",
    "model.add(LSTM(units = 44, input_shape=(1,44), return_sequences=True))\n",
    "model.add(Dense(1))\n",
    "model.add(Dense(1))\n",
    "model.compile(loss=\"mean_absolute_error\", optimizer = 'adam', metrics = [\"accuracy\"])\n",
    "# model.summary()\n",
    "\n",
    "history = model.fit(X_train, y_train, epochs=30, validation_data = (X_test, y_test))# validation_data=(X_test, y_test)"
   ]
  },
  {
   "cell_type": "code",
   "execution_count": 24,
   "metadata": {},
   "outputs": [
    {
     "name": "stdout",
     "output_type": "stream",
     "text": [
      "52977/52977 [==============================] - 3s 52us/sample - loss: 0.0141 - acc: 0.9938\n",
      "0.014085674540009275 0.9938086\n"
     ]
    }
   ],
   "source": [
    "model.save(\"LSTM_DDoS_Detection.model\")\n",
    "val_loss, val_acc = model.evaluate(X_test, y_test)\n",
    "print(val_loss, val_acc)"
   ]
  },
  {
   "cell_type": "code",
   "execution_count": 10,
   "metadata": {},
   "outputs": [
    {
     "data": {
      "image/png": "[encoded data removed]",
      "text/plain": [
       "<Figure size 432x288 with 1 Axes>"
      ]
     },
     "metadata": {
      "needs_background": "light"
     },
     "output_type": "display_data"
    }
   ],
   "source": [
    "#Visualization of the Loss\n",
    "\n",
    "loss_train = history.history['loss']\n",
    "loss_val = history.history['val_loss']\n",
    "epochs = range(1,31)\n",
    "plt.plot(epochs, loss_train, 'g', label='Training loss')\n",
    "plt.plot(epochs, loss_val, 'b', label='validation loss')\n",
    "plt.title('Training and Validation loss')\n",
    "plt.xlabel('Epochs')\n",
    "plt.ylabel('Loss')\n",
    "plt.legend()\n",
    "plt.show()"
   ]
  },
  {
   "cell_type": "code",
   "execution_count": 26,
   "metadata": {},
   "outputs": [
    {
     "data": {
      "image/png": "[encoded data removed]",
      "text/plain": [
       "<Figure size 432x288 with 1 Axes>"
      ]
     },
     "metadata": {
      "needs_background": "light"
     },
     "output_type": "display_data"
    }
   ],
   "source": [
    "#Visualization of the accuracy.\n",
    "\n",
    "loss_train = history.history['acc']\n",
    "loss_val = history.history['val_acc']\n",
    "epochs = range(1,31)\n",
    "plt.plot(epochs, loss_train, 'g', label='Training accuracy')\n",
    "plt.plot(epochs, loss_val, 'b', label='validation accuracy')\n",
    "plt.title('Training and Validation accuracy')\n",
    "plt.xlabel('Epochs')\n",
    "plt.ylabel('Accuracy')\n",
    "plt.legend()\n",
    "plt.show()"
   ]
  },
  {
   "cell_type": "code",
   "execution_count": null,
   "metadata": {},
   "outputs": [],
   "source": []
  }
 ],
 "metadata": {
  "kernelspec": {
   "display_name": "Python 3",
   "language": "python",
   "name": "python3"
  },
  "language_info": {
   "codemirror_mode": {
    "name": "ipython",
    "version": 3
   },
   "file_extension": ".py",
   "mimetype": "text/x-python",
   "name": "python",
   "nbconvert_exporter": "python",
   "pygments_lexer": "ipython3",
   "version": "3.7.6"
  }
 },
 "nbformat": 4,
 "nbformat_minor": 4
}
