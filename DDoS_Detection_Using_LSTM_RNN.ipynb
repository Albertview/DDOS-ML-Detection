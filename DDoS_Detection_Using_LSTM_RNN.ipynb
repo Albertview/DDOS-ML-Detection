{
 "cells": [
  {
   "cell_type": "code",
   "execution_count": 45,
   "metadata": {},
   "outputs": [],
   "source": [
    "import pandas as pd\n",
    "import numpy as np\n",
    "from sklearn.preprocessing import OneHotEncoder, OrdinalEncoder\n",
    "from sklearn.model_selection import train_test_split\n",
    "import tensorflow as tf\n",
    "from tensorflow.keras.models import Sequential\n",
    "from tensorflow.keras.layers import Dense, LSTM #CuDNNLSTM\n",
    "from sklearn.preprocessing import StandardScaler\n",
    "import matplotlib.pyplot as plt\n",
    "\n",
    "from tensorflow.keras.callbacks import TensorBoard\n",
    "import time\n",
    "\n",
    "NAME = \"DDoS_LSTM_RNN{}\".format(int(time.time()))\n",
    "tensorboard = TensorBoard(log_dir = 'C:\\\\logs\\\\{}'.format(NAME))\n"
   ]
  },
  {
   "cell_type": "code",
   "execution_count": 46,
   "metadata": {},
   "outputs": [],
   "source": [
    "df = pd.read_csv('./KDDTrain.csv')\n",
    "df_val = pd.read_csv('./KDDTest.csv')\n"
   ]
  },
  {
   "cell_type": "code",
   "execution_count": 47,
   "metadata": {
    "scrolled": true
   },
   "outputs": [],
   "source": [
    "num_feat = ['src_bytes','dst_bytes','wrong_fragment','urgent','hot','num_failed_logins','num_compromised','root_shell','su_attempted','num_root','num_file_creations','num_shells','num_access_files','num_outbound_cmds','count','srv_count','serror_rate','srv_serror_rate','rerror_rate','srv_rerror_rate','same_srv_rate','diff_srv_rate','srv_diff_host_rate','dst_host_count','dst_host_srv_count','dst_host_same_srv_rate','dst_host_diff_srv_rate','dst_host_same_src_port_rate','dst_host_srv_diff_host_rate','dst_host_serror_rate','dst_host_srv_serror_rate','dst_host_rerror_rate','dst_host_srv_rerror_rate']\n"
   ]
  },
  {
   "cell_type": "code",
   "execution_count": 48,
   "metadata": {},
   "outputs": [],
   "source": [
    "# feature_df = df\n",
    "# X = np.asarray(feature_df)\n",
    "# y = np.asarray(df['class'])\n"
   ]
  },
  {
   "cell_type": "code",
   "execution_count": 49,
   "metadata": {},
   "outputs": [],
   "source": [
    "# X_train, X_test, y_train, y_test = train_test_split(X, y, test_size = 0.2, random_state = 1, stratify = y)\n"
   ]
  },
  {
   "cell_type": "code",
   "execution_count": 50,
   "metadata": {
    "scrolled": true
   },
   "outputs": [
    {
     "name": "stdout",
     "output_type": "stream",
     "text": [
      "(125973, 44)\n",
      "(52977, 1, 44)\n"
     ]
    }
   ],
   "source": [
    "#Change features with object or string value into numeric numbers\n",
    "ord_feat = ['protocol_type', 'service', 'flag']\n",
    "#Nom_feat = column value with 0 or 1\n",
    "nom_feat = ['land', 'logged_in', 'is_host_login', 'is_guest_login']\n",
    "num_feat = ['src_bytes','dst_bytes','wrong_fragment','urgent','hot','num_failed_logins','num_compromised','root_shell','su_attempted','num_root','num_file_creations','num_shells','num_access_files','num_outbound_cmds','count','srv_count','serror_rate','srv_serror_rate','rerror_rate','srv_rerror_rate','same_srv_rate','diff_srv_rate','srv_diff_host_rate','dst_host_count','dst_host_srv_count','dst_host_same_srv_rate','dst_host_diff_srv_rate','dst_host_same_src_port_rate','dst_host_srv_diff_host_rate','dst_host_serror_rate','dst_host_srv_serror_rate','dst_host_rerror_rate','dst_host_srv_rerror_rate']\n",
    "\n",
    "X_train, y_train = df.drop(columns=['class'], axis=1, inplace=False), df['class'].values\n",
    "\n",
    "\n",
    "ohe = OneHotEncoder(sparse=False)\n",
    "oe = OrdinalEncoder()\n",
    "\n",
    "ohe.fit(X_train[nom_feat].values)\n",
    "oe.fit(X_train[ord_feat].values)\n",
    "\n",
    "\n",
    "scalar = StandardScaler()\n",
    "scalar.fit(X_train[num_feat].values)\n",
    "X_train_nom = ohe.transform(X_train[nom_feat].values)\n",
    "X_train_ord = oe.transform(X_train[ord_feat].values)\n",
    "X_train_num = scalar.transform(X_train[num_feat].values)\n",
    "\n",
    "X_train = np.concatenate([X_train_ord, X_train_num, X_train_nom], axis=1)\n",
    "print(X_train.shape)\n",
    "#reshape Train dataset into 3d array\n",
    "X_train = X_train.reshape((X_train.shape[0],1,X_train.shape[1]))\n",
    "y_train = y_train.reshape((y_train.shape[0],1,1))\n",
    "\n",
    "#Scale the num, ord, nom datasets\n",
    "X_test, y_test = df_val.drop(columns=['class'], axis = 1, inplace=False), df_val['class'].values\n",
    "\n",
    "ohe.fit(X_test[nom_feat].values)\n",
    "oe.fit(X_test[ord_feat].values)\n",
    "#reshape Test dataset into 3d array\n",
    "\n",
    "scalar.fit(X_test[num_feat].values)\n",
    "X_test_nom = ohe.transform(X_test[nom_feat].values)\n",
    "X_test_ord = oe.transform(X_test[ord_feat].values)\n",
    "X_test_num = scalar.transform(X_test[num_feat].values)\n",
    "X_test = np.concatenate([X_test_ord, X_test_num, X_test_nom], axis=1)\n",
    "X_test.shape\n",
    "X_test = X_test.reshape((X_test.shape[0],1,X_test.shape[1]))\n",
    "y_test = y_test.reshape((y_test.shape[0],1,1))\n",
    "print(X_test.shape)\n"
   ]
  },
  {
   "cell_type": "code",
   "execution_count": 51,
   "metadata": {},
   "outputs": [
    {
     "name": "stdout",
     "output_type": "stream",
     "text": [
      "Train on 125973 samples, validate on 52977 samples\n",
      "Epoch 1/30\n",
      "125973/125973 [==============================] - 20s 160us/sample - loss: 0.0534 - accuracy: 0.9611 - val_loss: 0.0384 - val_accuracy: 0.9696\n",
      "Epoch 2/30\n",
      "125973/125973 [==============================] - 18s 139us/sample - loss: 0.0351 - accuracy: 0.9727 - val_loss: 0.0303 - val_accuracy: 0.9775\n",
      "Epoch 3/30\n",
      "125973/125973 [==============================] - 17s 137us/sample - loss: 0.0287 - accuracy: 0.9830 - val_loss: 0.0257 - val_accuracy: 0.9875\n",
      "Epoch 4/30\n",
      "125973/125973 [==============================] - 17s 137us/sample - loss: 0.0239 - accuracy: 0.9879 - val_loss: 0.0231 - val_accuracy: 0.9896\n",
      "Epoch 5/30\n",
      "125973/125973 [==============================] - 17s 137us/sample - loss: 0.0217 - accuracy: 0.9892 - val_loss: 0.0237 - val_accuracy: 0.9892\n",
      "Epoch 6/30\n",
      "125973/125973 [==============================] - 17s 138us/sample - loss: 0.0201 - accuracy: 0.9898 - val_loss: 0.0209 - val_accuracy: 0.9902\n",
      "Epoch 7/30\n",
      "125973/125973 [==============================] - 17s 137us/sample - loss: 0.0191 - accuracy: 0.9902 - val_loss: 0.0180 - val_accuracy: 0.9909\n",
      "Epoch 8/30\n",
      "125973/125973 [==============================] - 18s 146us/sample - loss: 0.0180 - accuracy: 0.9905 - val_loss: 0.0180 - val_accuracy: 0.9903\n",
      "Epoch 9/30\n",
      "125973/125973 [==============================] - 18s 141us/sample - loss: 0.0170 - accuracy: 0.9907 - val_loss: 0.0160 - val_accuracy: 0.9910\n",
      "Epoch 10/30\n",
      "125973/125973 [==============================] - 17s 135us/sample - loss: 0.0164 - accuracy: 0.9909 - val_loss: 0.0151 - val_accuracy: 0.9912\n",
      "Epoch 11/30\n",
      "125973/125973 [==============================] - 17s 133us/sample - loss: 0.0159 - accuracy: 0.9911 - val_loss: 0.0159 - val_accuracy: 0.9915\n",
      "Epoch 12/30\n",
      "125973/125973 [==============================] - 17s 134us/sample - loss: 0.0153 - accuracy: 0.9913 - val_loss: 0.0148 - val_accuracy: 0.9917\n",
      "Epoch 13/30\n",
      "125973/125973 [==============================] - 17s 133us/sample - loss: 0.0149 - accuracy: 0.9913 - val_loss: 0.0148 - val_accuracy: 0.9918\n",
      "Epoch 14/30\n",
      "125973/125973 [==============================] - 17s 138us/sample - loss: 0.0144 - accuracy: 0.9915 - val_loss: 0.0141 - val_accuracy: 0.9918\n",
      "Epoch 15/30\n",
      "125973/125973 [==============================] - 17s 136us/sample - loss: 0.0141 - accuracy: 0.9915 - val_loss: 0.0140 - val_accuracy: 0.9919\n",
      "Epoch 16/30\n",
      "125973/125973 [==============================] - 17s 136us/sample - loss: 0.0138 - accuracy: 0.9916 - val_loss: 0.0134 - val_accuracy: 0.9920\n",
      "Epoch 17/30\n",
      "125973/125973 [==============================] - 17s 136us/sample - loss: 0.0136 - accuracy: 0.9918 - val_loss: 0.0134 - val_accuracy: 0.9921\n",
      "Epoch 18/30\n",
      "125973/125973 [==============================] - 17s 136us/sample - loss: 0.0133 - accuracy: 0.9919 - val_loss: 0.0146 - val_accuracy: 0.9919\n",
      "Epoch 19/30\n",
      "125973/125973 [==============================] - 17s 136us/sample - loss: 0.0130 - accuracy: 0.9921 - val_loss: 0.0119 - val_accuracy: 0.9923\n",
      "Epoch 20/30\n",
      "125973/125973 [==============================] - 17s 134us/sample - loss: 0.0128 - accuracy: 0.9921 - val_loss: 0.0126 - val_accuracy: 0.9924\n",
      "Epoch 21/30\n",
      "125973/125973 [==============================] - 17s 138us/sample - loss: 0.0126 - accuracy: 0.9923 - val_loss: 0.0123 - val_accuracy: 0.9923\n",
      "Epoch 22/30\n",
      "125973/125973 [==============================] - 17s 138us/sample - loss: 0.0123 - accuracy: 0.9924 - val_loss: 0.0137 - val_accuracy: 0.9925\n",
      "Epoch 23/30\n",
      "125973/125973 [==============================] - 17s 137us/sample - loss: 0.0122 - accuracy: 0.9925 - val_loss: 0.0124 - val_accuracy: 0.9925\n",
      "Epoch 24/30\n",
      "125973/125973 [==============================] - 17s 137us/sample - loss: 0.0120 - accuracy: 0.9926 - val_loss: 0.0111 - val_accuracy: 0.9930\n",
      "Epoch 25/30\n",
      "125973/125973 [==============================] - 17s 135us/sample - loss: 0.0118 - accuracy: 0.9927 - val_loss: 0.0115 - val_accuracy: 0.9931\n",
      "Epoch 26/30\n",
      "125973/125973 [==============================] - 17s 138us/sample - loss: 0.0117 - accuracy: 0.9928 - val_loss: 0.0130 - val_accuracy: 0.9932\n",
      "Epoch 27/30\n",
      "125973/125973 [==============================] - 17s 137us/sample - loss: 0.0116 - accuracy: 0.9929 - val_loss: 0.0112 - val_accuracy: 0.9933\n",
      "Epoch 28/30\n",
      "125973/125973 [==============================] - 17s 137us/sample - loss: 0.0114 - accuracy: 0.9930 - val_loss: 0.0112 - val_accuracy: 0.9933\n",
      "Epoch 29/30\n",
      "125973/125973 [==============================] - 17s 136us/sample - loss: 0.0112 - accuracy: 0.9931 - val_loss: 0.0124 - val_accuracy: 0.9933\n",
      "Epoch 30/30\n",
      "125973/125973 [==============================] - 17s 136us/sample - loss: 0.0111 - accuracy: 0.9931 - val_loss: 0.0111 - val_accuracy: 0.9932\n"
     ]
    }
   ],
   "source": [
    "model = Sequential()\n",
    "#50 time steps, and 2 features\n",
    "#LSTM INOUT (Batch size, Time steps, units)\n",
    "model.add(LSTM(units = 44, input_shape=(1,44), return_sequences=True))\n",
    "model.add(Dense(1))\n",
    "model.add(Dense(1))\n",
    "model.compile(loss=\"mean_absolute_error\", optimizer = 'adam', metrics = [\"accuracy\"])\n",
    "# model.summary()\n",
    "\n",
    "history = model.fit(X_train, y_train, epochs=30, validation_data = (X_test, y_test), callbacks = [tensorboard])# validation_data=(X_test, y_test)"
   ]
  },
  {
   "cell_type": "code",
   "execution_count": 52,
   "metadata": {},
   "outputs": [
    {
     "name": "stdout",
     "output_type": "stream",
     "text": [
      "52977/52977 [==============================] - 2s 46us/sample - loss: 0.0111 - accuracy: 0.9932\n",
      "0.011124639040081947 0.9932046\n"
     ]
    }
   ],
   "source": [
    "val_loss, val_acc = model.evaluate(X_test, y_test)\n",
    "print(val_loss, val_acc)"
   ]
  },
  {
   "cell_type": "code",
   "execution_count": 53,
   "metadata": {},
   "outputs": [
    {
     "data": {
      "image/png": "[encoded data removed]",
      "text/plain": [
       "<Figure size 432x288 with 1 Axes>"
      ]
     },
     "metadata": {
      "needs_background": "light"
     },
     "output_type": "display_data"
    }
   ],
   "source": [
    "#Visualization of the Loss\n",
    "\n",
    "loss_train = history.history['loss']\n",
    "loss_val = history.history['val_loss']\n",
    "epochs = range(1,31)\n",
    "plt.plot(epochs, loss_train, 'g', label='Training loss')\n",
    "plt.plot(epochs, loss_val, 'b', label='validation loss')\n",
    "plt.title('Training and Validation loss')\n",
    "plt.xlabel('Epochs')\n",
    "plt.ylabel('Loss')\n",
    "plt.legend()\n",
    "plt.show()"
   ]
  },
  {
   "cell_type": "code",
   "execution_count": 54,
   "metadata": {},
   "outputs": [
    {
     "data": {
      "image/png": "[encoded data removed]",
      "text/plain": [
       "<Figure size 432x288 with 1 Axes>"
      ]
     },
     "metadata": {
      "needs_background": "light"
     },
     "output_type": "display_data"
    }
   ],
   "source": [
    "#Visualization of the accuracy.\n",
    "\n",
    "loss_train = history.history['accuracy']\n",
    "loss_val = history.history['val_accuracy']\n",
    "epochs = range(1,31)\n",
    "plt.plot(epochs, loss_train, 'g', label='Training accuracy')\n",
    "plt.plot(epochs, loss_val, 'b', label='validation accuracy')\n",
    "plt.title('Training and Validation accuracy')\n",
    "plt.xlabel('Epochs')\n",
    "plt.ylabel('Accuracy')\n",
    "plt.legend()\n",
    "plt.show()"
   ]
  },
  {
   "cell_type": "code",
   "execution_count": null,
   "metadata": {},
   "outputs": [],
   "source": []
  },
  {
   "cell_type": "code",
   "execution_count": null,
   "metadata": {},
   "outputs": [],
   "source": []
  }
 ],
 "metadata": {
  "kernelspec": {
   "display_name": "Python 3",
   "language": "python",
   "name": "python3"
  },
  "language_info": {
   "codemirror_mode": {
    "name": "ipython",
    "version": 3
   },
   "file_extension": ".py",
   "mimetype": "text/x-python",
   "name": "python",
   "nbconvert_exporter": "python",
   "pygments_lexer": "ipython3",
   "version": "3.7.6"
  }
 },
 "nbformat": 4,
 "nbformat_minor": 4
}
